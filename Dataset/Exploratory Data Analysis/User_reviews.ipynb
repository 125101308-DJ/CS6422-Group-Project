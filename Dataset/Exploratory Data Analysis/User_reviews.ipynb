{
 "cells": [
  {
   "cell_type": "code",
   "execution_count": 1,
   "id": "a77d54d9-518b-4548-b7ac-4045bf3ee234",
   "metadata": {},
   "outputs": [
    {
     "name": "stdout",
     "output_type": "stream",
     "text": [
      "(351, 21)\n",
      "['name', 'place_id', 'cuisine_type', 'address', 'county', 'rating', 'review_count', 'latitude', 'longitude', 'price_range', 'price_level', 'price_min', 'price_max', 'phone', 'website', 'url', 'atmosphere', 'dietary_options', 'service_options', 'amenities', 'reviews_data']\n"
     ]
    }
   ],
   "source": [
    "import pandas as pd\n",
    "import matplotlib.pyplot as plt\n",
    "import seaborn as sns\n",
    "import numpy as np\n",
    "df = pd.read_csv('Restaurants_Data_Preprocessed.csv')\n",
    "print(df.shape)\n",
    "print(df.columns.tolist())"
   ]
  },
  {
   "cell_type": "code",
   "execution_count": 2,
   "id": "ad6eef32-6e3c-4868-be6f-c173470ea09e",
   "metadata": {},
   "outputs": [
    {
     "name": "stdout",
     "output_type": "stream",
     "text": [
      "   restaurant_name                               place_id            username  \\\n",
      "0  The Garden Cafe  0x4844907258d2f7dd:0x9cfabff77ddfc195         Dana Fülles   \n",
      "1  The Garden Cafe  0x4844907258d2f7dd:0x9cfabff77ddfc195      Zarko Roncevic   \n",
      "2  The Garden Cafe  0x4844907258d2f7dd:0x9cfabff77ddfc195       Moriah Hilden   \n",
      "3  The Garden Cafe  0x4844907258d2f7dd:0x9cfabff77ddfc195  alexios danatsidis   \n",
      "4  The Garden Cafe  0x4844907258d2f7dd:0x9cfabff77ddfc195           F Whizzer   \n",
      "5  The Garden Cafe  0x4844907258d2f7dd:0x9cfabff77ddfc195          Rich Dietz   \n",
      "6  The Garden Cafe  0x4844907258d2f7dd:0x9cfabff77ddfc195        Jerry Larkin   \n",
      "7  The Garden Cafe  0x4844907258d2f7dd:0x9cfabff77ddfc195      Patricia Crean   \n",
      "8  The Garden Cafe  0x4844907258d2f7dd:0x9cfabff77ddfc195      Linda Moynihan   \n",
      "9  The Garden Cafe  0x4844907258d2f7dd:0x9cfabff77ddfc195           Pat Jones   \n",
      "\n",
      "  user_id                date  rating  \\\n",
      "0    None        5 months ago     5.0   \n",
      "1    None          a year ago     5.0   \n",
      "2    None          a year ago     5.0   \n",
      "3    None        3 months ago     5.0   \n",
      "4    None        9 months ago     5.0   \n",
      "5    None          a year ago     5.0   \n",
      "6    None         3 years ago     5.0   \n",
      "7    None  Edited 2 years ago     5.0   \n",
      "8    None         3 years ago     5.0   \n",
      "9    None          6 days ago     5.0   \n",
      "\n",
      "                                         review_text  \n",
      "0  Such a wonderful Café, the staff is lovely and...  \n",
      "1  This little coffee shop is a total hidden gem ...  \n",
      "2  Okay, wow. The exact place I needed. Well, I t...  \n",
      "3  This gentleman can easily make a difference in...  \n",
      "4  Been here twice. Lovely Victorian greenhouse s...  \n",
      "5  Amazing location and atmosphere.  Food was gre...  \n",
      "6  Lovely green setting, very friendly staff and ...  \n",
      "7  Love this lol cafe isolated out of sight off B...  \n",
      "8  Staff were friendly. You can sit inside the gr...  \n",
      "9                      Met for a cuppa, lovely place  \n",
      "(3456, 7)\n"
     ]
    }
   ],
   "source": [
    "import json\n",
    "all_reviews = []\n",
    "for idx, row in df.iterrows():\n",
    "    restaurant_name = row['name']\n",
    "    place_id = row['place_id']\n",
    "    if pd.notna(row['reviews_data']):\n",
    "        try:\n",
    "            reviews = json.loads(row['reviews_data'])\n",
    "            for review in reviews:\n",
    "                all_reviews.append({\n",
    "                    'restaurant_name': restaurant_name,\n",
    "                    'place_id': place_id,\n",
    "                    'username': review.get('username'),\n",
    "                    'user_id': review.get('user_id'),\n",
    "                    'date': review.get('date'),\n",
    "                    'rating': review.get('rating'),\n",
    "                    'review_text': review.get('review_text')\n",
    "                })\n",
    "        except:\n",
    "            pass\n",
    "reviews_df = pd.DataFrame(all_reviews)\n",
    "\n",
    "print(reviews_df.head(10))\n",
    "print(reviews_df.shape)"
   ]
  },
  {
   "cell_type": "code",
   "execution_count": 6,
   "id": "f8fab2d5-99cf-4e2b-9469-14dc3cc66750",
   "metadata": {},
   "outputs": [
    {
     "name": "stdout",
     "output_type": "stream",
     "text": [
      "    restaurant_name                               place_id  \\\n",
      "0   The Garden Cafe  0x4844907258d2f7dd:0x9cfabff77ddfc195   \n",
      "1   The Garden Cafe  0x4844907258d2f7dd:0x9cfabff77ddfc195   \n",
      "2   The Garden Cafe  0x4844907258d2f7dd:0x9cfabff77ddfc195   \n",
      "3   The Garden Cafe  0x4844907258d2f7dd:0x9cfabff77ddfc195   \n",
      "4   The Garden Cafe  0x4844907258d2f7dd:0x9cfabff77ddfc195   \n",
      "5   The Garden Cafe  0x4844907258d2f7dd:0x9cfabff77ddfc195   \n",
      "6   The Garden Cafe  0x4844907258d2f7dd:0x9cfabff77ddfc195   \n",
      "7   The Garden Cafe  0x4844907258d2f7dd:0x9cfabff77ddfc195   \n",
      "8   The Garden Cafe  0x4844907258d2f7dd:0x9cfabff77ddfc195   \n",
      "9   The Garden Cafe  0x4844907258d2f7dd:0x9cfabff77ddfc195   \n",
      "10         The Oval  0x48449010a9c7faa3:0xec08c58544e5a6ce   \n",
      "11         The Oval  0x48449010a9c7faa3:0xec08c58544e5a6ce   \n",
      "12         The Oval  0x48449010a9c7faa3:0xec08c58544e5a6ce   \n",
      "13         The Oval  0x48449010a9c7faa3:0xec08c58544e5a6ce   \n",
      "14         The Oval  0x48449010a9c7faa3:0xec08c58544e5a6ce   \n",
      "\n",
      "              username  user_id                date  rating  \\\n",
      "0          Dana Fülles        1        5 months ago     5.0   \n",
      "1       Zarko Roncevic        2          a year ago     5.0   \n",
      "2        Moriah Hilden        3          a year ago     5.0   \n",
      "3   alexios danatsidis        4        3 months ago     5.0   \n",
      "4            F Whizzer        5        9 months ago     5.0   \n",
      "5           Rich Dietz        6          a year ago     5.0   \n",
      "6         Jerry Larkin        7         3 years ago     5.0   \n",
      "7       Patricia Crean        8  Edited 2 years ago     5.0   \n",
      "8       Linda Moynihan        9         3 years ago     5.0   \n",
      "9            Pat Jones       10          6 days ago     5.0   \n",
      "10         Swati Verma       11        2 months ago     5.0   \n",
      "11      Éimear Barrett       12          2 days ago     4.0   \n",
      "12       Eilidh Fraser       13        5 months ago     5.0   \n",
      "13         Katherine D       14         2 weeks ago     5.0   \n",
      "14          A J (Lexi)       15         a month ago     4.0   \n",
      "\n",
      "                                          review_text  \n",
      "0   Such a wonderful Café, the staff is lovely and...  \n",
      "1   This little coffee shop is a total hidden gem ...  \n",
      "2   Okay, wow. The exact place I needed. Well, I t...  \n",
      "3   This gentleman can easily make a difference in...  \n",
      "4   Been here twice. Lovely Victorian greenhouse s...  \n",
      "5   Amazing location and atmosphere.  Food was gre...  \n",
      "6   Lovely green setting, very friendly staff and ...  \n",
      "7   Love this lol cafe isolated out of sight off B...  \n",
      "8   Staff were friendly. You can sit inside the gr...  \n",
      "9                       Met for a cuppa, lovely place  \n",
      "10  Yet another gem in Cork. The pub has a very bo...  \n",
      "11  Nice pub. Good music. Not the best beer select...  \n",
      "12  I walked in slightly nervously, because it was...  \n",
      "13  Great spot for a Beamish on the historical pub...  \n",
      "14  Maybe we came too late on a Saturday. It was s...  \n",
      "Total unique users: 2671\n"
     ]
    }
   ],
   "source": [
    "unique_usernames = reviews_df['username'].unique()\n",
    "user_id_mapping = {username: idx + 1 for idx, username in enumerate(unique_usernames)}\n",
    "reviews_df['user_id'] = reviews_df['username'].map(user_id_mapping)\n",
    "\n",
    "print(reviews_df.head(15))\n",
    "print('Total unique users: ' + str(len(unique_usernames)))"
   ]
  },
  {
   "cell_type": "code",
   "execution_count": 7,
   "id": "10341cf1-e252-4795-a55f-ba78e94d00a2",
   "metadata": {},
   "outputs": [],
   "source": [
    "df.to_csv(\"user_reviews_data.csv\", index=False)"
   ]
  }
 ],
 "metadata": {
  "kernelspec": {
   "display_name": "Python 3 (ipykernel)",
   "language": "python",
   "name": "python3"
  },
  "language_info": {
   "codemirror_mode": {
    "name": "ipython",
    "version": 3
   },
   "file_extension": ".py",
   "mimetype": "text/x-python",
   "name": "python",
   "nbconvert_exporter": "python",
   "pygments_lexer": "ipython3",
   "version": "3.13.5"
  }
 },
 "nbformat": 4,
 "nbformat_minor": 5
}
